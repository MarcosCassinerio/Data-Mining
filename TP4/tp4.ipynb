{
 "cells": [
  {
   "cell_type": "markdown",
   "metadata": {
    "id": "ITRO1d00z96H"
   },
   "source": [
    "# Funciones Auxiliares"
   ]
  },
  {
   "cell_type": "code",
   "execution_count": 1,
   "metadata": {
    "colab": {
     "base_uri": "https://localhost:8080/"
    },
    "id": "R0HpUl2zz6hy",
    "outputId": "d182f29f-cc83-4474-8dea-2febea2102f7",
    "vscode": {
     "languageId": "r"
    }
   },
   "outputs": [
    {
     "name": "stderr",
     "output_type": "stream",
     "text": [
      "Installing package into ‘/usr/local/lib/R/site-library’\n",
      "(as ‘lib’ is unspecified)\n",
      "\n",
      "randomForest 4.7-1.2\n",
      "\n",
      "Type rfNews() to see new features/changes/bug fixes.\n",
      "\n",
      "Installing package into ‘/usr/local/lib/R/site-library’\n",
      "(as ‘lib’ is unspecified)\n",
      "\n",
      "also installing the dependency ‘proxy’\n",
      "\n",
      "\n",
      "Installing package into ‘/usr/local/lib/R/site-library’\n",
      "(as ‘lib’ is unspecified)\n",
      "\n",
      "Installing package into ‘/usr/local/lib/R/site-library’\n",
      "(as ‘lib’ is unspecified)\n",
      "\n",
      "\n",
      "Attaching package: ‘ggplot2’\n",
      "\n",
      "\n",
      "The following object is masked from ‘package:randomForest’:\n",
      "\n",
      "    margin\n",
      "\n",
      "\n"
     ]
    }
   ],
   "source": [
    "library(MASS)\n",
    "library(rpart)\n",
    "library(readr)\n",
    "library(class)\n",
    "install.packages(\"randomForest\")\n",
    "library(randomForest)\n",
    "install.packages(\"e1071\")\n",
    "library(e1071)\n",
    "install.packages(\"xgboost\")\n",
    "library(xgboost)\n",
    "install.packages(\"ggplot2\")\n",
    "library(ggplot2)"
   ]
  },
  {
   "cell_type": "code",
   "execution_count": 2,
   "metadata": {
    "colab": {
     "base_uri": "https://localhost:8080/",
     "height": 0
    },
    "id": "OwD5qx1WGzZi",
    "outputId": "9add1651-e182-402c-db23-5d3aab22771f",
    "vscode": {
     "languageId": "r"
    }
   },
   "outputs": [
    {
     "data": {
      "text/html": [
       "<style>\n",
       ".list-inline {list-style: none; margin:0; padding: 0}\n",
       ".list-inline>li {display: inline-block}\n",
       ".list-inline>li:not(:last-child)::after {content: \"\\00b7\"; padding: 0 .5ex}\n",
       "</style>\n",
       "<ol class=list-inline><li>'diag_test'</li><li>'diag_train'</li><li>'esp_test'</li><li>'esp_train'</li><li>'lampone'</li><li>'RRL'</li></ol>\n"
      ],
      "text/latex": [
       "\\begin{enumerate*}\n",
       "\\item 'diag\\_test'\n",
       "\\item 'diag\\_train'\n",
       "\\item 'esp\\_test'\n",
       "\\item 'esp\\_train'\n",
       "\\item 'lampone'\n",
       "\\item 'RRL'\n",
       "\\end{enumerate*}\n"
      ],
      "text/markdown": [
       "1. 'diag_test'\n",
       "2. 'diag_train'\n",
       "3. 'esp_test'\n",
       "4. 'esp_train'\n",
       "5. 'lampone'\n",
       "6. 'RRL'\n",
       "\n",
       "\n"
      ],
      "text/plain": [
       "[1] \"diag_test\"  \"diag_train\" \"esp_test\"   \"esp_train\"  \"lampone\"   \n",
       "[6] \"RRL\"       "
      ]
     },
     "metadata": {},
     "output_type": "display_data"
    }
   ],
   "source": [
    "load(\"TP4.Rdata\")\n",
    "load(\"lampone.Rdata\")\n",
    "ls()"
   ]
  },
  {
   "cell_type": "code",
   "execution_count": 3,
   "metadata": {
    "id": "7KPgvPTCvqfs",
    "vscode": {
     "languageId": "r"
    }
   },
   "outputs": [],
   "source": [
    "get_kfolds <- function(dataX, dataY, k = 5) {\n",
    "  # Número de observaciones\n",
    "  n <- nrow(dataX)\n",
    "\n",
    "  # Crear índices aleatorios para la división\n",
    "  set.seed(123)  # Para reproducibilidad\n",
    "  indices <- sample(1:n)\n",
    "\n",
    "  # Dividir los índices en k subconjuntos\n",
    "  folds <- cut(indices, breaks = k, labels = FALSE)\n",
    "\n",
    "  # Lista para almacenar los conjuntos de entrenamiento y prueba\n",
    "  kfolds <- list()\n",
    "\n",
    "  # Para cada fold, crear los conjuntos de entrenamiento y prueba\n",
    "  for (i in 1:k) {\n",
    "    # Índices para el conjunto de prueba\n",
    "    test_indices <- which(folds == i)\n",
    "\n",
    "    # Índices para el conjunto de entrenamiento\n",
    "    train_indices <- setdiff(1:n, test_indices)\n",
    "\n",
    "    # Subconjuntos de entrenamiento y prueba\n",
    "    X_train <- dataX[train_indices, ]\n",
    "    Y_train <- dataY[train_indices]\n",
    "    X_test <- dataX[test_indices, ]\n",
    "    Y_test <- dataY[test_indices]\n",
    "\n",
    "    # Almacenar los conjuntos de entrenamiento y prueba en la lista\n",
    "    kfolds[[i]] <- list(\n",
    "      xTrain = X_train,\n",
    "      yTrain = Y_train,\n",
    "      xTest = X_test,\n",
    "      yTest = Y_test\n",
    "    )\n",
    "  }\n",
    "\n",
    "  return(kfolds)\n",
    "}"
   ]
  },
  {
   "cell_type": "code",
   "execution_count": 4,
   "metadata": {
    "id": "fIJzj4uIFlyb",
    "vscode": {
     "languageId": "r"
    }
   },
   "outputs": [],
   "source": [
    "errorTestProf <- function(train, test, arboles, eta, maxProfundidad) {\n",
    "  xTrain <- as.matrix(train[,1:2])\n",
    "  yTrain<- train[,3]\n",
    "\n",
    "  xTest <- as.matrix(test[,1:2])\n",
    "  yTest <- test[,3]\n",
    "\n",
    "  erroresTrain <- list()\n",
    "  erroresTest <- list()\n",
    "\n",
    "  for(i in 1:maxProfundidad){\n",
    "    xgb <- xgboost(data=xTrain, label=as.integer(yTrain)-1, objective=\"binary:hinge\", nrounds=arboles,\n",
    "    early_stopping_rounds=1000, eta=eta, max.depth=i, colsample_bytree=1, verbose=0,\n",
    "    subsample=1)\n",
    "\n",
    "    predicciones <- predict(xgb, xTest)\n",
    "    predicciones <- ifelse(predicciones > 0.5, 1, 0)\n",
    "\n",
    "    error <- mean(predicciones != (as.integer(yTest) - 1))\n",
    "\n",
    "    erroresTest[[i]] <- error\n",
    "\n",
    "    predicciones <- predict(xgb, xTrain)\n",
    "    predicciones <- ifelse(predicciones > 0.5, 1, 0)\n",
    "\n",
    "    error <- mean(predicciones != (as.integer(yTrain) - 1))\n",
    "\n",
    "    erroresTrain[[i]] <- error\n",
    "  }\n",
    "\n",
    "  return(list(erroresTrain = erroresTrain, erroresTest = erroresTest))\n",
    "}"
   ]
  },
  {
   "cell_type": "markdown",
   "metadata": {
    "id": "2ti9zsAI009T"
   },
   "source": [
    "# Ejercicio 1"
   ]
  },
  {
   "cell_type": "code",
   "execution_count": null,
   "metadata": {
    "id": "EdhA8RIScRKi",
    "vscode": {
     "languageId": "r"
    }
   },
   "outputs": [],
   "source": [
    "XGB.nrounds <- 200 #total de arboles/ciclos\n",
    "XGB.eta <- 0.1 #learning rate, similar a redes\n",
    "XGB.max.depth <-20"
   ]
  },
  {
   "cell_type": "markdown",
   "metadata": {
    "id": "B4WZaqlHcEdE"
   },
   "source": [
    "## Espirales con ruido"
   ]
  },
  {
   "cell_type": "code",
   "execution_count": null,
   "metadata": {
    "colab": {
     "base_uri": "https://localhost:8080/",
     "height": 437
    },
    "id": "Y9R2swPpcyCx",
    "outputId": "98d01d1e-8d7b-4631-cb84-15a4c608f637",
    "vscode": {
     "languageId": "r"
    }
   },
   "outputs": [
    {
     "data": {
      "image/png": "[encoded data removed]",
      "text/plain": [
       "plot without title"
      ]
     },
     "metadata": {
      "image/png": {
       "height": 420,
       "width": 420
      }
     },
     "output_type": "display_data"
    }
   ],
   "source": [
    "train_df <- data.frame(\n",
    "  X1 = esp_train[, 1], # Primera característica\n",
    "  X2 = esp_train[, 2], # Segunda característica\n",
    "  Clase = as.factor(esp_train[, 3]) # Clase (convertida a factor para colores)\n",
    ")\n",
    "\n",
    "# Graficar con ggplot2\n",
    "ggplot(train_df, aes(x = X1, y = X2, color = Clase)) +\n",
    "  geom_point(size = 2) + # Puntos con tamaño 2\n",
    "  labs(title = \"Datos de Entrenamiento\",\n",
    "       x = \"X\", y = \"Y\") +\n",
    "  theme_minimal() +\n",
    "  scale_color_manual(values = c(\"blue\", \"red\")) # Ajusta los colores si tienes solo 2 clases"
   ]
  },
  {
   "cell_type": "code",
   "execution_count": null,
   "metadata": {
    "id": "NKAUDB1McUnK",
    "vscode": {
     "languageId": "r"
    }
   },
   "outputs": [],
   "source": [
    "resultados <- errorTestProf(esp_train, esp_test, XGB.nrounds, XGB.eta, XGB.max.depth)\n",
    "\n",
    "erroresTrain <- resultados$erroresTrain\n",
    "erroresTest <- resultados$erroresTest"
   ]
  },
  {
   "cell_type": "code",
   "execution_count": null,
   "metadata": {
    "colab": {
     "base_uri": "https://localhost:8080/",
     "height": 437
    },
    "id": "CAIolStcM_Wr",
    "outputId": "f98cefec-db4f-45d6-b0b7-b4a8aee12795",
    "vscode": {
     "languageId": "r"
    }
   },
   "outputs": [
    {
     "data": {
      "image/png": "[encoded data removed]",
      "text/plain": [
       "Plot with title “Error en Train y Test vs Profundidad Máxima”"
      ]
     },
     "metadata": {
      "image/png": {
       "height": 420,
       "width": 420
      }
     },
     "output_type": "display_data"
    }
   ],
   "source": [
    "plot(\n",
    "  1:XGB.max.depth,\n",
    "  erroresTrain,\n",
    "  type = \"b\",\n",
    "  col = \"blue\",\n",
    "  pch = 19,\n",
    "  xlab = \"Profundidad Máxima (max.depth)\",\n",
    "  ylab = \"Error\",\n",
    "  main = \"Error en Train y Test vs Profundidad Máxima\",\n",
    "  ylim = range(c(erroresTrain, erroresTest))\n",
    ")\n",
    "\n",
    "lines(\n",
    "  1:XGB.max.depth,\n",
    "  erroresTest,\n",
    "  type = \"b\",\n",
    "  col = \"red\",\n",
    "  pch = 19\n",
    ")\n",
    "\n",
    "legend(\n",
    "  \"topright\",\n",
    "  legend = c(\"Train\", \"Test\"),\n",
    "  col = c(\"blue\", \"red\"),\n",
    "  pch = 19,\n",
    "  lty = 1\n",
    ")"
   ]
  },
  {
   "cell_type": "markdown",
   "metadata": {
    "id": "2mRvDP-3j8c5"
   },
   "source": [
    "### Comentarios\n",
    "\n",
    "Comencé imprimiendo un gráfico de los datos de entrenamiento para observar cuánto se solapaban debido al ruido y con cuántos datos contábamos. Esto me permitió evaluar, a simple vista, si sería posible hacer una \"predicción\" razonable de nuevos datos.\n",
    "\n",
    "Personalmente, me pareció casi incomprensible el gráfico, y dudé seriamente de que fuera posible realizar una buena predicción sobre los puntos de prueba.\n",
    "\n",
    "Uno podría pensar que un error del 35% es elevado, pero al considerar el gráfico anterior, personalmente me sorprendió obtener un resultado significativamente mejor que el 50% esperado por azar.\n",
    "\n",
    "Más allá de eso, el menor error encontrado fue del 35%, como ya se mencionó, y se alcanzó utilizando árboles de decisión con una profundidad de 5. Parece que tanto árboles más complejos (de mayor profundidad) como menos complejos (de menor profundidad) empeoraban el error."
   ]
  },
  {
   "cell_type": "markdown",
   "metadata": {
    "id": "CfB0cuKHMK7E"
   },
   "source": [
    "## Diagonales"
   ]
  },
  {
   "cell_type": "code",
   "execution_count": null,
   "metadata": {
    "colab": {
     "base_uri": "https://localhost:8080/",
     "height": 437
    },
    "id": "XddaHKAlc34o",
    "outputId": "df537ee8-eae7-46e5-9fa0-c5bbf8a8ea6f",
    "vscode": {
     "languageId": "r"
    }
   },
   "outputs": [
    {
     "data": {
      "image/png": "[encoded data removed]",
      "text/plain": [
       "plot without title"
      ]
     },
     "metadata": {
      "image/png": {
       "height": 420,
       "width": 420
      }
     },
     "output_type": "display_data"
    }
   ],
   "source": [
    "train_df <- data.frame(\n",
    "  X1 = diag_train[, 1], # Primera característica\n",
    "  X2 = diag_train[, 2], # Segunda característica\n",
    "  Clase = as.factor(diag_train[, 3]) # Clase (convertida a factor para colores)\n",
    ")\n",
    "\n",
    "# Graficar con ggplot2\n",
    "ggplot(train_df, aes(x = X1, y = X2, color = Clase)) +\n",
    "  geom_point(size = 2) + # Puntos con tamaño 2\n",
    "  labs(title = \"Datos de Entrenamiento\",\n",
    "       x = \"Característica 1\", y = \"Característica 2\") +\n",
    "  theme_minimal() +\n",
    "  scale_color_manual(values = c(\"blue\", \"red\")) # Ajusta los colores si tienes solo 2 clases"
   ]
  },
  {
   "cell_type": "code",
   "execution_count": null,
   "metadata": {
    "id": "qihPJRYiMMa2",
    "vscode": {
     "languageId": "r"
    }
   },
   "outputs": [],
   "source": [
    "resultados <- errorTestProf(diag_train, diag_test, XGB.nrounds, XGB.eta, XGB.max.depth)\n",
    "\n",
    "erroresTrain <- resultados$erroresTrain\n",
    "erroresTest <- resultados$erroresTest"
   ]
  },
  {
   "cell_type": "code",
   "execution_count": null,
   "metadata": {
    "colab": {
     "base_uri": "https://localhost:8080/",
     "height": 437
    },
    "id": "2xP2KPW1O5CE",
    "outputId": "4e18b20e-e7a5-47fc-ac2d-e8131f62ed91",
    "vscode": {
     "languageId": "r"
    }
   },
   "outputs": [
    {
     "data": {
      "image/png": "[encoded data removed]",
      "text/plain": [
       "Plot with title “Error en Train y Test vs Profundidad Máxima”"
      ]
     },
     "metadata": {
      "image/png": {
       "height": 420,
       "width": 420
      }
     },
     "output_type": "display_data"
    }
   ],
   "source": [
    "plot(\n",
    "  1:XGB.max.depth,\n",
    "  erroresTrain,\n",
    "  type = \"b\",\n",
    "  col = \"blue\",\n",
    "  pch = 19,\n",
    "  xlab = \"Profundidad Máxima (max.depth)\",\n",
    "  ylab = \"Error\",\n",
    "  main = \"Error en Train y Test vs Profundidad Máxima\",\n",
    "  ylim = range(c(erroresTrain, erroresTest))\n",
    ")\n",
    "\n",
    "lines(\n",
    "  1:XGB.max.depth,\n",
    "  erroresTest,\n",
    "  type = \"b\",\n",
    "  col = \"red\",\n",
    "  pch = 19\n",
    ")\n",
    "\n",
    "legend(\n",
    "  \"topright\",\n",
    "  legend = c(\"Train\", \"Test\"),\n",
    "  col = c(\"blue\", \"red\"),\n",
    "  pch = 19,\n",
    "  lty = 1\n",
    ")"
   ]
  },
  {
   "cell_type": "markdown",
   "metadata": {
    "id": "xh8JFgnyjhK_"
   },
   "source": [
    "### Comentarios\n",
    "\n",
    "Aunque el problema de diagonales ya era conocido, no me pareció innecesario graficarlo nuevamente para tener una idea más clara de con qué estábamos trabajando.\n",
    "\n",
    "El menor error se logró utilizando árboles de decisión de profundidad 1 (es decir, con un solo corte). Esto tiene sentido, ya que, como sabemos, los árboles de decisión intentan aproximar una recta diagonal (en este caso, y=−x) mediante divisiones sucesivas que maximicen la separación entre las clases. Estas divisiones se realizan de forma progresiva, ajustando los cortes sobre los puntos a lo largo de dicha recta."
   ]
  },
  {
   "cell_type": "markdown",
   "metadata": {
    "id": "Q7qPWojG03YT"
   },
   "source": [
    "# Ejercicio 2"
   ]
  },
  {
   "cell_type": "code",
   "execution_count": null,
   "metadata": {
    "id": "wH6wB7ioIVsL",
    "vscode": {
     "languageId": "r"
    }
   },
   "outputs": [],
   "source": [
    "xTrain <- as.matrix(subset(RRL, select = -Tipo))\n",
    "yTrain <- RRL[, \"Tipo\"]\n",
    "\n",
    "mtrys <- c(69, 34, 17, 8, 4, 2, 1)\n",
    "arboles <- 1000\n",
    "tries <- 5"
   ]
  },
  {
   "cell_type": "code",
   "execution_count": null,
   "metadata": {
    "id": "if5xe0WuMsFp",
    "vscode": {
     "languageId": "r"
    }
   },
   "outputs": [],
   "source": [
    "erroresRRL <- numeric(length(mtrys))\n",
    "\n",
    "for (i in 1:length(mtrys)) {\n",
    "\n",
    "  mtry <- mtrys[i]  # Obtener el valor de mtry\n",
    "  error <- 0\n",
    "\n",
    "  for (j in 1:tries) {\n",
    "    rf_model <- randomForest(x = xTrain, y = as.factor(yTrain),\n",
    "                             ntree = arboles,\n",
    "                             mtry = mtry,\n",
    "                             importance = FALSE)\n",
    "\n",
    "    error <- error + tail(rf_model$err.rate[, \"OOB\"], 1)\n",
    "  }\n",
    "\n",
    "  erroresRRL[i] <- error / tries  # Promedio de los errores OOB\n",
    "}"
   ]
  },
  {
   "cell_type": "code",
   "execution_count": null,
   "metadata": {
    "colab": {
     "base_uri": "https://localhost:8080/",
     "height": 437
    },
    "id": "i6v_7SXQW0K9",
    "outputId": "f5c439a9-c187-4381-b9b6-708588137e39",
    "vscode": {
     "languageId": "r"
    }
   },
   "outputs": [
    {
     "data": {
      "image/png": "[encoded data removed]",
      "text/plain": [
       "Plot with title “Error OOB vs Mtry”"
      ]
     },
     "metadata": {
      "image/png": {
       "height": 420,
       "width": 420
      }
     },
     "output_type": "display_data"
    }
   ],
   "source": [
    "plot(\n",
    "  mtrys,\n",
    "  erroresRRL,\n",
    "  type = \"b\",\n",
    "  col = \"blue\",\n",
    "  pch = 19,\n",
    "  xlab = \"Mtry\",\n",
    "  ylab = \"Error OOB\",\n",
    "  main = \"Error OOB vs Mtry\",\n",
    "  ylim = range(erroresRRL)\n",
    ")\n",
    "\n",
    "# Añadir los valores de mtrys como etiquetas a cada punto\n",
    "text(mtrys, erroresRRL, labels = mtrys, pos = 3, cex = 0.8, col = \"red\")"
   ]
  },
  {
   "cell_type": "markdown",
   "metadata": {
    "id": "zwSgdmmQp3sg"
   },
   "source": [
    "## Comentarios\n",
    "\n",
    "Según los resultados, el mejor valor para el parámetro Mtry (número de variables seleccionadas en cada iteración) fue 17.\n",
    "\n",
    "Conectándolo con la teoría, este caso corresponde a un equilibrio en el que se seleccionaron suficientes variables como para introducir aleatoriedad entre las distintas iteraciones. Esto permitió que los árboles aprendieran aspectos diferentes del dataset. Al mismo tiempo, no se seleccionaron demasiadas variables, lo que garantizó que los árboles pudieran seguir especializándose adecuadamente en los distintos sectores del dataset.\n",
    "\n",
    "Sin embargo, aunque el valor 17 para el parámetro Mtry resultó ser el óptimo, la diferencia de error con respecto al peor valor no superó el 1%. Por lo tanto, aunque la elección adecuada de este parámetro mejora la capacidad predictiva del modelo, su impacto en el error final no fue muy significativo en este caso."
   ]
  },
  {
   "cell_type": "markdown",
   "metadata": {
    "id": "QbmeqTMe041C"
   },
   "source": [
    "# Ejercicio 3"
   ]
  },
  {
   "cell_type": "code",
   "execution_count": 5,
   "metadata": {
    "id": "5r2yPheIam7R",
    "vscode": {
     "languageId": "r"
    }
   },
   "outputs": [],
   "source": [
    "dataX <- lampone[, -c(1, 143, ncol(lampone))]\n",
    "\n",
    "dataY <- lampone[, 143]"
   ]
  },
  {
   "cell_type": "markdown",
   "metadata": {
    "id": "y-Fnp4B-tTJO"
   },
   "source": [
    "## Seleccion Parametros"
   ]
  },
  {
   "cell_type": "markdown",
   "metadata": {
    "id": "dhou6Oht0m7l"
   },
   "source": [
    "### Funciones"
   ]
  },
  {
   "cell_type": "code",
   "execution_count": 6,
   "metadata": {
    "id": "GnKgi8XJ_zM6",
    "vscode": {
     "languageId": "r"
    }
   },
   "outputs": [],
   "source": [
    "getDatasets <- function () {\n",
    "  train_ratio <- 0.8\n",
    "\n",
    "  n <- nrow(lampone)\n",
    "\n",
    "  # Seleccionar índices aleatorios para entrenamiento\n",
    "  train_indices <- sample(1:n, size = floor(train_ratio * n))\n",
    "\n",
    "  # Crear los conjuntos de entrenamiento y prueba\n",
    "  xBigTrain <- dataX[train_indices, ]\n",
    "  yBigTrain <- dataY[train_indices]\n",
    "\n",
    "  xBigTest <- dataX[-train_indices, ]\n",
    "  yBigTest <- dataY[-train_indices]\n",
    "\n",
    "  return(list(\n",
    "    xBigTrain = xBigTrain,\n",
    "    yBigTrain = yBigTrain,\n",
    "    xBigTest = xBigTest,\n",
    "    yBigTest = yBigTest\n",
    "  ))\n",
    "}"
   ]
  },
  {
   "cell_type": "markdown",
   "metadata": {
    "id": "R-cN5cnVMFUY"
   },
   "source": [
    "#### RF"
   ]
  },
  {
   "cell_type": "code",
   "execution_count": 7,
   "metadata": {
    "id": "1_kU29FaZs3e",
    "vscode": {
     "languageId": "r"
    }
   },
   "outputs": [],
   "source": [
    "lamponeRF <- function(x, y) {\n",
    "  mtrys <- c(141, 70, 35, 17, 8, 4, 2, 1)\n",
    "  arboles <- 1000\n",
    "  tries <- 5\n",
    "\n",
    "  erroresRF <- numeric(length(mtrys))\n",
    "\n",
    "  for (i in 1:length(mtrys)) {\n",
    "\n",
    "    mtry <- mtrys[i]\n",
    "    error <- 0\n",
    "\n",
    "    for (j in 1:tries) {\n",
    "      rf_model <- randomForest(x = x, y = as.factor(y),\n",
    "                              ntree = arboles,\n",
    "                              mtry = mtry,\n",
    "                              importance = FALSE)\n",
    "\n",
    "      error <- error + tail(rf_model$err.rate[, \"OOB\"], 1)\n",
    "    }\n",
    "\n",
    "    erroresRF[i] <- error / tries\n",
    "  }\n",
    "\n",
    "  return (erroresRF)\n",
    "}"
   ]
  },
  {
   "cell_type": "markdown",
   "metadata": {
    "id": "eptUtn5qMGzh"
   },
   "source": [
    "#### XGB"
   ]
  },
  {
   "cell_type": "code",
   "execution_count": 8,
   "metadata": {
    "id": "gLPbHaOdMXRh",
    "vscode": {
     "languageId": "r"
    }
   },
   "outputs": [],
   "source": [
    "lamponeXGB <- function(folds) {\n",
    "  XGB.nrounds <- 200\n",
    "  etas <- c(0.5, 0.3, 0.1, 0.05, 0.01)\n",
    "  XGB.max.depth <- 20\n",
    "\n",
    "  erroresXGBTrain <- vector(\"list\", length(etas))\n",
    "  erroresXGBTest <- vector(\"list\", length(etas))\n",
    "\n",
    "  for (i in 1:length(etas)) {\n",
    "    eta <- etas[i]\n",
    "\n",
    "    errorDepthTrain <- numeric(XGB.max.depth)\n",
    "    errorDepthTest <- numeric(XGB.max.depth)\n",
    "\n",
    "    for (j in 1:XGB.max.depth) {\n",
    "      errorTrain <- 0\n",
    "      errorTest <- 0\n",
    "\n",
    "      for (fold in folds) {\n",
    "        xTrain <- as.matrix(fold$xTrain)  # Convertir a matriz\n",
    "        yTrain <- fold$yTrain\n",
    "        xTest <- as.matrix(fold$xTest)  # Convertir a matriz\n",
    "        yTest <- fold$yTest\n",
    "\n",
    "        xgb <- xgboost(data = xTrain, label = as.integer(yTrain) - 1,\n",
    "                      objective = \"binary:hinge\", nrounds = XGB.nrounds,\n",
    "                      early_stopping_rounds = 1000, eta = eta, max.depth = j,\n",
    "                      colsample_bytree = 1, verbose = 0, subsample = 1)\n",
    "\n",
    "        # Error en train\n",
    "        predicciones <- predict(xgb, xTrain)\n",
    "        fold_error <- mean((predicciones > 0.5) != as.integer(yTrain) - 1)\n",
    "        errorTrain <- errorTrain + fold_error\n",
    "\n",
    "        # Error en test\n",
    "        predicciones <- predict(xgb, xTest)\n",
    "        fold_error <- mean((predicciones > 0.5) != as.integer(yTest) - 1)\n",
    "        errorTest <- errorTest + fold_error\n",
    "      }\n",
    "\n",
    "      errorDepthTrain[j] <- errorTrain / k\n",
    "      errorDepthTest[j] <- errorTest / k\n",
    "    }\n",
    "\n",
    "    # Guardar errores por eta\n",
    "    erroresXGBTrain[[i]] <- errorDepthTrain\n",
    "    erroresXGBTest[[i]] <- errorDepthTest\n",
    "  }\n",
    "\n",
    "  return(list(erroresXGBTrain = erroresXGBTrain, erroresXGBTest = erroresXGBTest))\n",
    "}"
   ]
  },
  {
   "cell_type": "markdown",
   "metadata": {
    "id": "6an0f1qLMLiS"
   },
   "source": [
    "#### SVM RBF (Radial Basis Function)\n"
   ]
  },
  {
   "cell_type": "code",
   "execution_count": 9,
   "metadata": {
    "id": "suI9pqPQdZks",
    "vscode": {
     "languageId": "r"
    }
   },
   "outputs": [],
   "source": [
    "lamponeRBF <- function(folds) {\n",
    "  costs <- c(1000, 10000, 100000, 1000000, 10000000, 100000000, 1000000000)\n",
    "\n",
    "  gammas <- c(0.000000001, 0.00000001, 0.0000001, 0.000001, 0.00001)\n",
    "\n",
    "  erroresRBFTrain <- vector(\"list\", length(costs))\n",
    "  erroresRBFTest <- vector(\"list\", length(costs))\n",
    "\n",
    "  for (i in 1:length(costs)) {\n",
    "    cost <- costs[i]\n",
    "\n",
    "    errorGammaTrain <- numeric(length(gammas))\n",
    "    errorGammaTest <- numeric(length(gammas))\n",
    "\n",
    "    for (j in 1:length(gammas)) {\n",
    "      gamma <- gammas[j]\n",
    "\n",
    "      errorTrain <- 0\n",
    "      errorTest <- 0\n",
    "      for (fold in folds) {\n",
    "        xTrain <- fold$xTrain\n",
    "        yTrain <- fold$yTrain\n",
    "        xTest <- fold$xTest\n",
    "        yTest <- fold$yTest\n",
    "\n",
    "        svm_rbf <- suppressWarnings(\n",
    "          svm(x = xTrain, y = as.factor(yTrain), kernel = \"radial\", cost = cost, gamma = gamma)\n",
    "        )\n",
    "\n",
    "        predTrain <- predict(svm_rbf, xTrain)\n",
    "        errorTrain <- errorTrain + mean(predTrain != yTrain)\n",
    "\n",
    "        predTest <- predict(svm_rbf, xTest)\n",
    "        errorTest <- errorTest + mean(predTest != yTest)\n",
    "      }\n",
    "\n",
    "      errorGammaTrain[j] <- errorTrain / k\n",
    "      errorGammaTest[j] <- errorTest / k\n",
    "    }\n",
    "\n",
    "    erroresRBFTrain[[i]] <- errorGammaTrain\n",
    "    erroresRBFTest[[i]] <- errorGammaTest\n",
    "  }\n",
    "\n",
    "  return(list(erroresRBFTrain = erroresRBFTrain, erroresRBFTest = erroresRBFTest))\n",
    "}"
   ]
  },
  {
   "cell_type": "markdown",
   "metadata": {
    "id": "6RANoZ6CMS-Y"
   },
   "source": [
    "#### SVM Polinomial"
   ]
  },
  {
   "cell_type": "code",
   "execution_count": 10,
   "metadata": {
    "id": "7TIv8R7iaSpw",
    "vscode": {
     "languageId": "r"
    }
   },
   "outputs": [],
   "source": [
    "lamponePol <- function(folds) {\n",
    "  costs <- c(0.1, 1, 10, 100, 1000, 10000, 100000, 1000000, 10000000)\n",
    "\n",
    "  gammas <- c(0.00001, 0.0001, 0.001, 0.01, 0.1, 1, 10)\n",
    "\n",
    "  degrees <- c(1, 2, 3, 4, 5)\n",
    "\n",
    "  erroresPolTrain <- vector(\"list\", length(costs))\n",
    "  erroresPolTest <- vector(\"list\", length(costs))\n",
    "\n",
    "  for (i in 1:length(costs)) {\n",
    "    cost <- costs[i]\n",
    "\n",
    "    errorGammaTrain <- vector(\"list\", length(gammas))\n",
    "    errorGammaTest <- vector(\"list\", length(gammas))\n",
    "\n",
    "    for (j in 1:length(gammas)) {\n",
    "      gamma <- gammas[j]\n",
    "\n",
    "      errorDegreeTrain <- numeric(length(degrees))\n",
    "      errorDegreeTest <- numeric(length(degrees))\n",
    "\n",
    "      for (l in 1:length(degrees)) {\n",
    "        degree <- degrees[l]\n",
    "\n",
    "        errorTrain <- 0\n",
    "        errorTest <- 0\n",
    "\n",
    "        for (fold in folds) {\n",
    "          xTrain <- fold$xTrain\n",
    "          yTrain <- fold$yTrain\n",
    "          xTest <- fold$xTest\n",
    "          yTest <- fold$yTest\n",
    "\n",
    "          svm_pol <- suppressWarnings(\n",
    "            svm(x = xTrain, y = as.factor(yTrain), kernel = \"polynomial\",\n",
    "                cost = cost, degree = degree, gamma = gamma)\n",
    "          )\n",
    "\n",
    "          predTrain <- predict(svm_pol, xTrain)\n",
    "          errorTrain <- errorTrain + mean(predTrain != yTrain)\n",
    "\n",
    "          predTest <- predict(svm_pol, xTest)\n",
    "          errorTest <- errorTest + mean(predTest != yTest)\n",
    "        }\n",
    "\n",
    "        errorDegreeTrain[l] <- errorTrain / k\n",
    "        errorDegreeTest[l] <- errorTest / k\n",
    "      }\n",
    "\n",
    "      errorGammaTrain[[j]] <- errorDegreeTrain\n",
    "      errorGammaTest[[j]] <- errorDegreeTest\n",
    "    }\n",
    "\n",
    "    erroresPolTrain[[i]] <- errorGammaTrain\n",
    "    erroresPolTest[[i]] <- errorGammaTest\n",
    "  }\n",
    "\n",
    "  return(list(erroresPolTrain = erroresPolTrain, erroresPolTest = erroresPolTest))\n",
    "}"
   ]
  },
  {
   "cell_type": "markdown",
   "metadata": {
    "id": "RPgiRjOP0xKr"
   },
   "source": [
    "### Calculos"
   ]
  },
  {
   "cell_type": "code",
   "execution_count": null,
   "metadata": {
    "colab": {
     "base_uri": "https://localhost:8080/"
    },
    "id": "t7sBalyI04_n",
    "outputId": "1344f79e-7638-41bb-ecfd-824317f04cd7",
    "vscode": {
     "languageId": "r"
    }
   },
   "outputs": [
    {
     "name": "stdout",
     "output_type": "stream",
     "text": [
      "----- RF -----\n",
      "141  70  35  17   8   4   2   1 \n",
      "  0   2   4  10   6   5   2   0 \n",
      "----- XGB -----\n",
      "     1 2  3  4  5  6  7  8  9 10 11 12 13 14 15 16 17 18 19 20\n",
      "0.5  9 9 10 10 10 10 10 10 10 10 10 10 10 10 10 10 10 10 10 10\n",
      "0.3  4 9 11 11 11 11 11 11 11 11 11 11 11 11 11 11 11 11 11 11\n",
      "0.1  5 9  9  9  9  9  9  9  9  9  9  9  9  9  9  9  9  9  9  9\n",
      "0.05 4 8  8  8  8  8  8  8  8  8  8  8  8  8  8  8  8  8  8  8\n",
      "0.01 3 8  7  7  7  7  7  7  7  7  7  7  7  7  7  7  7  7  7  7\n",
      "----- SVM RBF -----\n",
      "      1e-09 1e-08 1e-07 1e-06 1e-05\n",
      "1000      0     0     2     1     1\n",
      "10000     0     2     2     1     0\n",
      "1e+05     1     2     0     1     0\n",
      "1e+06     3     0     4     2     0\n",
      "1e+07     1     5     3     2     0\n",
      "1e+08     2     6     3     2     0\n",
      "1e+09     0     6     3     2     0\n",
      "----- SVM Polinomial -----\n",
      ", , 1\n",
      "\n",
      "      1e-05 1e-04 0.001 0.01 0.1  1 10\n",
      "0.1       0     0     1    1   1  2 12\n",
      "1         0     1     1    1   2 13 12\n",
      "10        1     1     1    2  11 13 12\n",
      "100       1     1     2   12  11 13 12\n",
      "1000      1     2    12   12  11 13 12\n",
      "10000     2    12    12   12  11 13 12\n",
      "1e+05    13    12    12   12  11 13 12\n",
      "1e+06    13    12    12   12  11 13 12\n",
      "1e+07    13    12    12   12  11 13 12\n",
      "\n",
      ", , 2\n",
      "\n",
      "      1e-05 1e-04 0.001 0.01 0.1 1 10\n",
      "0.1       0     2     0    1   0 0  1\n",
      "1         0     0     0    1   0 0  1\n",
      "10        2     0     0    1   0 0  1\n",
      "100       0     0     0    1   0 0  1\n",
      "1000      0     0     0    1   0 0  1\n",
      "10000     1     0     0    1   0 0  1\n",
      "1e+05     1     0     0    1   0 0  1\n",
      "1e+06     1     0     0    1   0 0  1\n",
      "1e+07     1     0     0    1   0 0  1\n",
      "\n",
      ", , 3\n",
      "\n",
      "      1e-05 1e-04 0.001 0.01 0.1 1 10\n",
      "0.1       0     0     1    1   1 1  1\n",
      "1         1     1     1    1   1 1  1\n",
      "10        0     1     1    1   1 1  1\n",
      "100       0     1     1    1   1 1  1\n",
      "1000      1     1     1    1   1 1  1\n",
      "10000     1     1     1    1   1 1  1\n",
      "1e+05     1     1     1    1   1 1  1\n",
      "1e+06     1     1     1    1   1 1  1\n",
      "1e+07     1     1     1    1   1 1  1\n",
      "\n",
      ", , 4\n",
      "\n",
      "      1e-05 1e-04 0.001 0.01 0.1 1 10\n",
      "0.1       1     1     1    1   1 1  1\n",
      "1         1     1     1    1   1 1  1\n",
      "10        0     1     1    1   1 1  1\n",
      "100       1     1     1    1   1 1  1\n",
      "1000      1     1     1    1   1 1  1\n",
      "10000     1     1     1    1   1 1  1\n",
      "1e+05     1     1     1    1   1 1  1\n",
      "1e+06     1     1     1    1   1 1  1\n",
      "1e+07     1     1     1    1   1 1  1\n",
      "\n",
      ", , 5\n",
      "\n",
      "      1e-05 1e-04 0.001 0.01 0.1 1 10\n",
      "0.1       1     0     0    0   0 0  0\n",
      "1         0     0     0    0   0 0  0\n",
      "10        0     0     0    0   0 0  0\n",
      "100       0     0     0    0   0 0  0\n",
      "1000      0     0     0    0   0 0  0\n",
      "10000     0     0     0    0   0 0  0\n",
      "1e+05     0     0     0    0   0 0  0\n",
      "1e+06     0     0     0    0   0 0  0\n",
      "1e+07     0     0     0    0   0 0  0\n",
      "\n"
     ]
    }
   ],
   "source": [
    "iterations <- 20\n",
    "k <- 5\n",
    "\n",
    "mtrys <- c(141, 70, 35, 17, 8, 4, 2, 1)\n",
    "best_rf_count <- numeric(length(mtrys))\n",
    "\n",
    "etas <- c(0.5, 0.3, 0.1, 0.05, 0.01)\n",
    "max_depth <- 1:20\n",
    "best_xgb_count <- matrix(0, nrow = length(etas), ncol = length(max_depth),\n",
    "                            dimnames = list(etas, max_depth))\n",
    "\n",
    "costsRBF <- c(1000, 10000, 100000, 1000000, 10000000, 100000000, 1000000000)\n",
    "gammasRBF <- c(0.000000001, 0.00000001, 0.0000001, 0.000001, 0.00001)\n",
    "best_rbf_count <- matrix(0, nrow = length(costsRBF), ncol = length(gammasRBF),\n",
    "                            dimnames = list(costsRBF, gammasRBF))\n",
    "\n",
    "costsPol <- c(0.1, 1, 10, 100, 1000, 10000, 100000, 1000000, 10000000)\n",
    "gammasPol <- c(0.00001, 0.0001, 0.001, 0.01, 0.1, 1, 10)\n",
    "degreesPol <- c(1, 2, 3, 4, 5)\n",
    "best_pol_count <- array(0, dim = c(length(costsPol), length(gammasPol), length(degreesPol)),\n",
    "                           dimnames = list(costsPol, gammasPol, degreesPol))\n",
    "\n",
    "for (iter in 1:iterations) {\n",
    "  resultados <- getDatasets()\n",
    "  x <- resultados$xBigTrain\n",
    "  y <- resultados$yBigTrain\n",
    "\n",
    "  folds <- get_kfolds(x, y, k)\n",
    "\n",
    "  # RF\n",
    "  erroresRF <- lamponeRF(x, y)\n",
    "\n",
    "  min_error <- min(erroresRF)\n",
    "  best_rf_count[erroresRF == min_error] <- best_rf_count[erroresRF == min_error] + 1\n",
    "\n",
    "  # XGB\n",
    "  resultadosXGB <- lamponeXGB(folds)\n",
    "  erroresXGBTest <- resultadosXGB$erroresXGBTest\n",
    "\n",
    "  min_error <- Inf\n",
    "  best_eta_index <- NA\n",
    "  best_depth_index <- NA\n",
    "  for (eta_idx in seq_along(etas)) {\n",
    "    for (depth_idx in seq_along(max_depth)) {\n",
    "      error_promedio <- erroresXGBTest[[eta_idx]][depth_idx]\n",
    "      if (error_promedio < min_error) {\n",
    "        min_error <- error_promedio\n",
    "      }\n",
    "    }\n",
    "  }\n",
    "\n",
    "  for (eta_idx in seq_along(etas)) {\n",
    "    for (depth_idx in seq_along(max_depth)) {\n",
    "      error_promedio <- erroresXGBTest[[eta_idx]][depth_idx]\n",
    "      if (error_promedio == min_error) {\n",
    "        best_xgb_count[eta_idx, depth_idx] <- best_xgb_count[eta_idx, depth_idx] + 1\n",
    "      }\n",
    "    }\n",
    "  }\n",
    "\n",
    "  # SVM RBF\n",
    "  resultadosRBF <- lamponeRBF(folds)\n",
    "  erroresRBFTest <- resultadosRBF$erroresRBFTest\n",
    "\n",
    "  min_error <- Inf\n",
    "  best_cost_index <- NA\n",
    "  best_gamma_index <- NA\n",
    "  for (cost_idx in seq_along(costsRBF)) {\n",
    "    for (gamma_idx in seq_along(gammasRBF)) {\n",
    "      error_promedio <- erroresRBFTest[[cost_idx]][gamma_idx]\n",
    "      if (error_promedio < min_error) {\n",
    "        min_error <- error_promedio\n",
    "      }\n",
    "    }\n",
    "  }\n",
    "\n",
    "  for (cost_idx in seq_along(costsRBF)) {\n",
    "    for (gamma_idx in seq_along(gammasRBF)) {\n",
    "      error_promedio <- erroresRBFTest[[cost_idx]][gamma_idx]\n",
    "      if (error_promedio == min_error) {\n",
    "        best_rbf_count[cost_idx, gamma_idx] <- best_rbf_count[cost_idx, gamma_idx] + 1\n",
    "      }\n",
    "    }\n",
    "  }\n",
    "\n",
    "  # SVM Polinomial\n",
    "  resultadosPol <- lamponePol(folds)\n",
    "  erroresPolTest <- resultadosPol$erroresPolTest\n",
    "\n",
    "  min_error <- Inf\n",
    "  for (cost_idx in seq_along(costsPol)) {\n",
    "    for (gamma_idx in seq_along(gammasPol)) {\n",
    "      for (degree_idx in seq_along(degreesPol)) {\n",
    "        error_promedio <- erroresPolTest[[cost_idx]][[gamma_idx]][degree_idx]\n",
    "        if (error_promedio < min_error) {\n",
    "          min_error <- error_promedio\n",
    "        }\n",
    "      }\n",
    "    }\n",
    "  }\n",
    "\n",
    "  for (cost_idx in seq_along(costsPol)) {\n",
    "    for (gamma_idx in seq_along(gammasPol)) {\n",
    "      for (degree_idx in seq_along(degreesPol)) {\n",
    "        error_promedio <- erroresPolTest[[cost_idx]][[gamma_idx]][degree_idx]\n",
    "        if (error_promedio == min_error) {\n",
    "          best_pol_count[cost_idx, gamma_idx, degree_idx] <- best_pol_count[cost_idx, gamma_idx, degree_idx] + 1\n",
    "        }\n",
    "      }\n",
    "    }\n",
    "  }\n",
    "}\n",
    "\n",
    "cat(\"----- RF -----\\n\")\n",
    "print(setNames(best_rf_count, mtrys))\n",
    "\n",
    "cat(\"----- XGB -----\\n\")\n",
    "print(best_xgb_count)\n",
    "\n",
    "cat(\"----- SVM RBF -----\\n\")\n",
    "print(best_rbf_count)\n",
    "\n",
    "cat(\"----- SVM Polinomial -----\\n\")\n",
    "print(best_pol_count)"
   ]
  },
  {
   "cell_type": "markdown",
   "metadata": {
    "id": "B2rLYYYws0aX"
   },
   "source": [
    "### Comentarios\n",
    "\n",
    "En lo personal, no disfruté trabajar con este dataset. Esto se debió a que, al contar con tan pocos registros, tuve que ingeniármelas para dividirlos de manera que pudiera utilizar una gran parte para el entrenamiento, con el fin de determinar los mejores parámetros, y aún así reservar una porción significativa para realizar una prueba adecuada. Por esta razón, aunque en trabajos anteriores acostumbro emplear una división 70/30 (entrenamiento/prueba), en este caso opté por una división 80/20, ya que consideré que de otro modo no tendría suficientes datos para entrenar.\n",
    "\n",
    "Con mi conjunto de entrenamiento definido, decidí realizar un 5-fold cross-validation, ya que extraer otro 20% de datos para comparar los distintos parámetros habría dejado muy pocos registros disponibles. Sin embargo, aquí comenzó el verdadero problema: aunque el cross-validation me proporcionaba una estimación del error para diferentes configuraciones de parámetros, los resultados no siempre eran consistentes.\n",
    "\n",
    "Para abordar esta variabilidad, decidí realizar 20 iteraciones. ¿Por qué 20? Honestamente, no tenía una referencia clara y quería verificar si ese número sería suficiente para obtener un promedio representativo y encontrar los parámetros óptimos.\n",
    "\n",
    "Finalmente, parece que logré identificar los parámetros correctos, y los utilicé para comparar los modelos y evaluar cuál presentaba el menor error.\n",
    "\n",
    "Es importante destacar que, para los cálculos finales, regeneré los conjuntos de entrenamiento y prueba en cada iteración. Esto garantizó que los resultados no estuvieran sesgados por divisiones fijas y que los parámetros se determinaran de la manera más justa posible."
   ]
  },
  {
   "cell_type": "markdown",
   "metadata": {
    "id": "MiX8CVI9tV_X"
   },
   "source": [
    "## Comparacion final"
   ]
  },
  {
   "cell_type": "code",
   "execution_count": 29,
   "metadata": {
    "id": "dVdN13tXE43o",
    "vscode": {
     "languageId": "r"
    }
   },
   "outputs": [],
   "source": [
    "resultados <- getDatasets()\n",
    "xTrain <- as.matrix(resultados$xBigTrain)\n",
    "yTrain <- resultados$yBigTrain\n",
    "xTest <- as.matrix(resultados$xBigTest)\n",
    "yTest <- resultados$yBigTest\n",
    "\n",
    "# RF\n",
    "rf_model <- randomForest(x = xTrain, y = as.factor(yTrain),\n",
    "                        ntree = 1000,\n",
    "                        mtry = 17,\n",
    "                        importance = FALSE)\n",
    "\n",
    "predTest <- predict(rf_model, xTest)\n",
    "errorRF <- mean(predTest != yTest)\n",
    "\n",
    "# XGB\n",
    "xgb <- xgboost(data = xTrain, label = as.integer(yTrain) - 1,\n",
    "              objective = \"binary:hinge\", nrounds = 200,\n",
    "              early_stopping_rounds = 1000, eta = 0.3, max.depth = 3,\n",
    "              colsample_bytree = 1, verbose = 0, subsample = 1)\n",
    "\n",
    "predicciones <- predict(xgb, xTest)\n",
    "errorXGBTest <- mean((predicciones > 0.5) != as.integer(yTest) - 1)\n",
    "\n",
    "# SVM RBF\n",
    "svm_rbf <- suppressWarnings(\n",
    "  svm(x = xTrain, y = as.factor(yTrain), kernel = \"radial\", cost = 100000000, gamma = 0.00000001)\n",
    ")\n",
    "\n",
    "predTest <- predict(svm_rbf, xTest)\n",
    "errorRBFTest <- mean(predTest != yTest)\n",
    "\n",
    "# SVM Polinomial\n",
    "svm_pol <- suppressWarnings(\n",
    "  svm(x = xTrain, y = as.factor(yTrain), kernel = \"polynomial\",\n",
    "      cost = 100000, degree = 1, gamma = 1)\n",
    ")\n",
    "\n",
    "predTest <- predict(svm_pol, xTest)\n",
    "errorPolTest <- mean(predTest != yTest)"
   ]
  },
  {
   "cell_type": "code",
   "execution_count": 31,
   "metadata": {
    "colab": {
     "base_uri": "https://localhost:8080/",
     "height": 437
    },
    "id": "33-KzBgQjLd2",
    "outputId": "47d5c7cf-0648-4bc7-eec7-07f56d20df95",
    "vscode": {
     "languageId": "r"
    }
   },
   "outputs": [
    {
     "data": {
      "image/png": "[encoded data removed]",
      "text/plain": [
       "Plot with title “Errores de Test”"
      ]
     },
     "metadata": {
      "image/png": {
       "height": 420,
       "width": 420
      }
     },
     "output_type": "display_data"
    }
   ],
   "source": [
    "errores_test <- c(errorRF, errorXGBTest, errorRBFTest, errorPolTest)\n",
    "nombres_metodos <- c(\"Random Forest\", \"XGBoost\", \"SVM RBF\", \"SVM Polinomial\")\n",
    "\n",
    "barplot(\n",
    "  errores_test,\n",
    "  names.arg = nombres_metodos, # Nombres de los métodos\n",
    "  col = \"salmon\",              # Color de las barras\n",
    "  main = \"Errores de Test\", # Título del gráfico\n",
    "  xlab = \"Método\",             # Etiqueta del eje X\n",
    "  ylab = \"Error\",              # Etiqueta del eje Y\n",
    "  las = 1                      # Rotar etiquetas del eje X\n",
    ")"
   ]
  },
  {
   "cell_type": "markdown",
   "metadata": {
    "id": "Yqje7OVzbqUs"
   },
   "source": [
    "### Comentarios\n",
    "\n",
    "Como se puede observar en los valores presentados en el apartado anterior, logré identificar los parámetros óptimos para cada modelo que minimizan el error. A pesar de haber ejecutado cada modelo 20 veces, en la mayoría de los casos hubo varias combinaciones de parámetros que repetidamente producían el menor error posible. Para abordar esto, decidí probar todas esas combinaciones y quedarme con aquellas que generaron el menor error promedio. Los resultados que muestro aquí corresponden a esas configuraciones.\n",
    "\n",
    "Es importante señalar que, en este caso, no utilicé el Out-of-Bag (OOB) para medir el error en RandomForest, ya que quería entrenar y probar sobre los mismos datos que en los otros modelos, buscando que la comparación fuera lo más justa posible.\n",
    "\n",
    "Sin embargo, este dataset volvió a presentar dificultades al momento de comparar modelos debido al reducido número de registros disponibles (10 en el conjunto de prueba). En este contexto, un error del 10% implica que el modelo falló en predecir correctamente 1 de las 10 muestras de prueba, lo que genera una gran variabilidad en el porcentaje de error y dificulta una comparación significativa.\n",
    "\n",
    "Además, al ser tan pocos registros, los distintos conjuntos de prueba pueden arrojar resultados muy variables, haciendo que los errores de los modelos fluctúen entre 0% y 30%. No obstante, los valores reportados aquí representan una aproximación a la media observada para cada modelo."
   ]
  },
  {
   "cell_type": "markdown",
   "metadata": {
    "id": "gFbJQ1btqgqz"
   },
   "source": [
    "# Ejercicio 4"
   ]
  },
  {
   "cell_type": "code",
   "execution_count": null,
   "metadata": {
    "id": "exvT1D7jqgq0",
    "vscode": {
     "languageId": "r"
    }
   },
   "outputs": [],
   "source": [
    "dataX <- as.matrix(subset(RRL, select = -Tipo))\n",
    "\n",
    "dataY <- RRL[, \"Tipo\"]\n",
    "\n",
    "resultados <- getDatasets(dataX, dataY)\n",
    "xBigTrain <- resultados$xBigTrain\n",
    "yBigTrain <- resultados$yBigTrain\n",
    "xBigTest <- resultados$xBigTest\n",
    "yBigTest <- resultados$yBigTest"
   ]
  },
  {
   "cell_type": "markdown",
   "metadata": {
    "id": "w-5cS1Czqgq0"
   },
   "source": [
    "## Seleccion Parametros"
   ]
  },
  {
   "cell_type": "markdown",
   "metadata": {
    "id": "KaIt6Aozqgq0"
   },
   "source": [
    "### Funciones"
   ]
  },
  {
   "cell_type": "code",
   "execution_count": null,
   "metadata": {
    "id": "uBWeUHy21iO4",
    "vscode": {
     "languageId": "r"
    }
   },
   "outputs": [],
   "source": [
    "getDatasets <- function (x, y) {\n",
    "  train_ratio <- 0.8\n",
    "\n",
    "  n <- nrow(x)\n",
    "\n",
    "  # Seleccionar índices aleatorios para entrenamiento\n",
    "  train_indices <- sample(1:n, size = floor(train_ratio * n))\n",
    "\n",
    "  # Crear los conjuntos de entrenamiento y prueba\n",
    "  xBigTrain <- x[train_indices, ]\n",
    "  yBigTrain <- y[train_indices]\n",
    "\n",
    "  xBigTest <- x[-train_indices, ]\n",
    "  yBigTest <- y[-train_indices]\n",
    "\n",
    "  return(list(\n",
    "    xBigTrain = xBigTrain,\n",
    "    yBigTrain = yBigTrain,\n",
    "    xBigTest = xBigTest,\n",
    "    yBigTest = yBigTest\n",
    "  ))\n",
    "}"
   ]
  },
  {
   "cell_type": "markdown",
   "metadata": {
    "id": "OMyMIrB4qgq0"
   },
   "source": [
    "#### RF"
   ]
  },
  {
   "cell_type": "code",
   "execution_count": null,
   "metadata": {
    "id": "vdA2BJ-Dqgq1",
    "vscode": {
     "languageId": "r"
    }
   },
   "outputs": [],
   "source": [
    "rrlRF <- function(x, y) {\n",
    "  mtrys <- c(141, 70, 35, 17, 8, 4, 2, 1)\n",
    "  arboles <- 1000\n",
    "  tries <- 5\n",
    "\n",
    "  erroresRF <- numeric(length(mtrys))\n",
    "\n",
    "  for (i in 1:length(mtrys)) {\n",
    "\n",
    "    mtry <- mtrys[i]\n",
    "    error <- 0\n",
    "\n",
    "    for (j in 1:tries) {\n",
    "      rf_model <- randomForest(x = x, y = as.factor(y),\n",
    "                              ntree = arboles,\n",
    "                              mtry = mtry,\n",
    "                              importance = FALSE)\n",
    "\n",
    "      error <- error + tail(rf_model$err.rate[, \"OOB\"], 1)\n",
    "    }\n",
    "\n",
    "    erroresRF[i] <- error / tries\n",
    "  }\n",
    "\n",
    "  return (erroresRF)\n",
    "}"
   ]
  },
  {
   "cell_type": "markdown",
   "metadata": {
    "id": "RUwwgxsoqgq1"
   },
   "source": [
    "#### XGB"
   ]
  },
  {
   "cell_type": "code",
   "execution_count": null,
   "metadata": {
    "id": "Spu7RgzPqgq1",
    "vscode": {
     "languageId": "r"
    }
   },
   "outputs": [],
   "source": [
    "rrlXGB <- function(xTrain, yTrain, xTest, yTest) {\n",
    "  XGB.nrounds <- 200\n",
    "  etas <- c(0.5, 0.3, 0.1, 0.05, 0.01)\n",
    "  XGB.max.depth <- 20\n",
    "\n",
    "  erroresXGBTrain <- vector(\"list\", length(etas))\n",
    "  erroresXGBTest <- vector(\"list\", length(etas))\n",
    "\n",
    "  for (i in 1:length(etas)) {\n",
    "    eta <- etas[i]\n",
    "\n",
    "    errorDepthTrain <- numeric(XGB.max.depth)\n",
    "    errorDepthTest <- numeric(XGB.max.depth)\n",
    "\n",
    "    for (j in 1:XGB.max.depth) {\n",
    "      xgb <- xgboost(data = xTrain, label = as.integer(yTrain) - 1,\n",
    "                    objective = \"binary:hinge\", nrounds = XGB.nrounds,\n",
    "                    early_stopping_rounds = 1000, eta = eta, max.depth = j,\n",
    "                    colsample_bytree = 1, verbose = 0, subsample = 1)\n",
    "\n",
    "      # Error en train\n",
    "      predicciones <- predict(xgb, xTrain)\n",
    "      errorDepthTrain <- mean((predicciones > 0.5) != as.integer(yTrain) - 1)\n",
    "\n",
    "      # Error en test\n",
    "      predicciones <- predict(xgb, xTest)\n",
    "      errorDepthTest <- mean((predicciones > 0.5) != as.integer(yTest) - 1)\n",
    "    }\n",
    "\n",
    "    # Guardar errores por eta\n",
    "    erroresXGBTrain[[i]] <- errorDepthTrain\n",
    "    erroresXGBTest[[i]] <- errorDepthTest\n",
    "  }\n",
    "\n",
    "  return(list(erroresXGBTrain = erroresXGBTrain, erroresXGBTest = erroresXGBTest))\n",
    "}"
   ]
  },
  {
   "cell_type": "markdown",
   "metadata": {
    "id": "kNVMYXsZqgq1"
   },
   "source": [
    "#### SVM RBF (Radial Basis Function)\n"
   ]
  },
  {
   "cell_type": "code",
   "execution_count": null,
   "metadata": {
    "id": "xPOIgxAiqgq1",
    "vscode": {
     "languageId": "r"
    }
   },
   "outputs": [],
   "source": [
    "rrlRBF <- function(xTrain, yTrain, xTest, yTest) {\n",
    "  costs <- c(1000, 10000, 100000, 1000000, 10000000, 100000000, 1000000000)\n",
    "\n",
    "  gammas <- c(0.000000001, 0.00000001, 0.0000001, 0.000001, 0.00001)\n",
    "\n",
    "  erroresRBFTrain <- vector(\"list\", length(costs))\n",
    "  erroresRBFTest <- vector(\"list\", length(costs))\n",
    "\n",
    "  for (i in 1:length(costs)) {\n",
    "    cost <- costs[i]\n",
    "\n",
    "    errorGammaTrain <- numeric(length(gammas))\n",
    "    errorGammaTest <- numeric(length(gammas))\n",
    "\n",
    "    for (j in 1:length(gammas)) {\n",
    "      gamma <- gammas[j]\n",
    "\n",
    "      svm_rbf <- suppressWarnings(\n",
    "        svm(x = xTrain, y = as.factor(yTrain), kernel = \"radial\", cost = cost, gamma = gamma)\n",
    "      )\n",
    "\n",
    "      predTrain <- predict(svm_rbf, xTrain)\n",
    "      errorGammaTrain <- mean(predTrain != yTrain)\n",
    "\n",
    "      predTest <- predict(svm_rbf, xTest)\n",
    "      errorGammaTest <- mean(predTest != yTest)\n",
    "    }\n",
    "\n",
    "    erroresRBFTrain[[i]] <- errorGammaTrain\n",
    "    erroresRBFTest[[i]] <- errorGammaTest\n",
    "  }\n",
    "\n",
    "  return(list(erroresRBFTrain = erroresRBFTrain, erroresRBFTest = erroresRBFTest))\n",
    "}"
   ]
  },
  {
   "cell_type": "markdown",
   "metadata": {
    "id": "tIruhwZIqgq1"
   },
   "source": [
    "#### SVM Polinomial"
   ]
  },
  {
   "cell_type": "code",
   "execution_count": null,
   "metadata": {
    "id": "SW1pZGVOqgq1",
    "vscode": {
     "languageId": "r"
    }
   },
   "outputs": [],
   "source": [
    "rrlPol <- function(xTrain, yTrain, xTest, yTest) {\n",
    "  costs <- c(0.1, 1, 10, 100, 1000, 10000, 100000, 1000000, 10000000)\n",
    "\n",
    "  gammas <- c(0.00001, 0.0001, 0.001, 0.01, 0.1, 1, 10)\n",
    "\n",
    "  degrees <- c(1, 2, 3, 4, 5)\n",
    "\n",
    "  erroresPolTrain <- vector(\"list\", length(costs))\n",
    "  erroresPolTest <- vector(\"list\", length(costs))\n",
    "\n",
    "  for (i in 1:length(costs)) {\n",
    "    cost <- costs[i]\n",
    "\n",
    "    errorGammaTrain <- vector(\"list\", length(gammas))\n",
    "    errorGammaTest <- vector(\"list\", length(gammas))\n",
    "\n",
    "    for (j in 1:length(gammas)) {\n",
    "      gamma <- gammas[j]\n",
    "\n",
    "      errorDegreeTrain <- numeric(length(degrees))\n",
    "      errorDegreeTest <- numeric(length(degrees))\n",
    "\n",
    "      for (l in 1:length(degrees)) {\n",
    "        degree <- degrees[l]\n",
    "\n",
    "        svm_pol <- suppressWarnings(\n",
    "          svm(x = xTrain, y = as.factor(yTrain), kernel = \"polynomial\",\n",
    "              cost = cost, degree = degree, gamma = gamma)\n",
    "        )\n",
    "\n",
    "        predTrain <- predict(svm_pol, xTrain)\n",
    "        errorDegreeTrain <- mean(predTrain != yTrain)\n",
    "\n",
    "        predTest <- predict(svm_pol, xTest)\n",
    "        errorDegreeTest <- mean(predTest != yTest)\n",
    "      }\n",
    "\n",
    "      errorGammaTrain[[j]] <- errorDegreeTrain\n",
    "      errorGammaTest[[j]] <- errorDegreeTest\n",
    "    }\n",
    "\n",
    "    erroresPolTrain[[i]] <- errorGammaTrain\n",
    "    erroresPolTest[[i]] <- errorGammaTest\n",
    "  }\n",
    "\n",
    "  return(list(erroresPolTrain = erroresPolTrain, erroresPolTest = erroresPolTest))\n",
    "}"
   ]
  },
  {
   "cell_type": "markdown",
   "metadata": {
    "id": "DW1vai5Lqgq1"
   },
   "source": [
    "### Calculos"
   ]
  },
  {
   "cell_type": "code",
   "execution_count": null,
   "metadata": {
    "id": "OlC-Tx-pqgq2",
    "vscode": {
     "languageId": "r"
    }
   },
   "outputs": [],
   "source": [
    "mtrys <- c(69, 34, 17, 8, 4, 2, 1)\n",
    "best_rf_count <- numeric(length(mtrys))\n",
    "\n",
    "etas <- c(0.5, 0.3, 0.1, 0.05, 0.01)\n",
    "max_depth <- 1:20\n",
    "best_xgb_count <- matrix(0, nrow = length(etas), ncol = length(max_depth),\n",
    "                            dimnames = list(etas, max_depth))\n",
    "\n",
    "costsRBF <- c(1000, 10000, 100000, 1000000, 10000000, 100000000, 1000000000)\n",
    "gammasRBF <- c(0.00001, 0.0001, 0.001, 0.01, 0.1, 1, 10)\n",
    "best_rbf_count <- matrix(0, nrow = length(costsRBF), ncol = length(gammasRBF),\n",
    "                            dimnames = list(costsRBF, gammasRBF))\n",
    "\n",
    "costsPol <- c(0.1, 1, 10, 100, 1000, 10000, 100000, 1000000, 10000000)\n",
    "gammasPol <- c(0.00001, 0.0001, 0.001, 0.01, 0.1, 1, 10)\n",
    "degreesPol <- c(1, 2, 3, 4, 5)\n",
    "best_pol_count <- array(0, dim = c(length(costsPol), length(gammasPol), length(degreesPol)),\n",
    "                           dimnames = list(costsPol, gammasPol, degreesPol))\n",
    "\n",
    "resultados <- getDatasets(xBigTrain, yBigTrain)\n",
    "xTrain <- resultados$xBigTrain\n",
    "yTrain <- resultados$yBigTrain\n",
    "xTest <- resultados$xBigTest\n",
    "yTest <- resultados$yBigTest\n",
    "\n",
    "# RF\n",
    "erroresRF <- rrlRF(xBigTrain, yBigTrain)\n",
    "\n",
    "min_error <- min(erroresRF)\n",
    "best_rf_count[erroresRF == min_error] <- best_rf_count[erroresRF == min_error] + 1\n",
    "\n",
    "# XGB\n",
    "resultadosXGB <- rrlXGB(xTrain, yTrain, xTest, yTest)\n",
    "erroresXGBTest <- resultadosXGB$erroresXGBTest\n",
    "\n",
    "min_error <- Inf\n",
    "best_eta_index <- NA\n",
    "best_depth_index <- NA\n",
    "for (eta_idx in seq_along(etas)) {\n",
    "  for (depth_idx in seq_along(max_depth)) {\n",
    "    error_promedio <- erroresXGBTest[[eta_idx]][depth_idx]\n",
    "    if (error_promedio < min_error) {\n",
    "      min_error <- error_promedio\n",
    "    }\n",
    "  }\n",
    "}\n",
    "\n",
    "for (eta_idx in seq_along(etas)) {\n",
    "  for (depth_idx in seq_along(max_depth)) {\n",
    "    error_promedio <- erroresXGBTest[[eta_idx]][depth_idx]\n",
    "    if (error_promedio == min_error) {\n",
    "      best_xgb_count[eta_idx, depth_idx] <- best_xgb_count[eta_idx, depth_idx] + 1\n",
    "    }\n",
    "  }\n",
    "}\n",
    "\n",
    "# SVM RBF\n",
    "resultadosRBF <- rrlRBF(xTrain, yTrain, xTest, yTest)\n",
    "erroresRBFTest <- resultadosRBF$erroresRBFTest\n",
    "\n",
    "min_error <- Inf\n",
    "best_cost_index <- NA\n",
    "best_gamma_index <- NA\n",
    "for (cost_idx in seq_along(costsRBF)) {\n",
    "  for (gamma_idx in seq_along(gammasRBF)) {\n",
    "    error_promedio <- erroresRBFTest[[cost_idx]][gamma_idx]\n",
    "    if (error_promedio < min_error) {\n",
    "      min_error <- error_promedio\n",
    "    }\n",
    "  }\n",
    "}\n",
    "\n",
    "for (cost_idx in seq_along(costsRBF)) {\n",
    "  for (gamma_idx in seq_along(gammasRBF)) {\n",
    "    error_promedio <- erroresRBFTest[[cost_idx]][gamma_idx]\n",
    "    if (error_promedio == min_error) {\n",
    "      best_rbf_count[cost_idx, gamma_idx] <- best_rbf_count[cost_idx, gamma_idx] + 1\n",
    "    }\n",
    "  }\n",
    "}\n",
    "\n",
    "# SVM Polinomial\n",
    "resultadosPol <- rrlPol(xTrain, yTrain, xTest, yTest)\n",
    "erroresPolTest <- resultadosPol$erroresPolTest\n",
    "\n",
    "min_error <- Inf\n",
    "for (cost_idx in seq_along(costsPol)) {\n",
    "  for (gamma_idx in seq_along(gammasPol)) {\n",
    "    for (degree_idx in seq_along(degreesPol)) {\n",
    "      error_promedio <- erroresPolTest[[cost_idx]][[gamma_idx]][degree_idx]\n",
    "      if (error_promedio < min_error) {\n",
    "        min_error <- error_promedio\n",
    "      }\n",
    "    }\n",
    "  }\n",
    "}\n",
    "\n",
    "for (cost_idx in seq_along(costsPol)) {\n",
    "  for (gamma_idx in seq_along(gammasPol)) {\n",
    "    for (degree_idx in seq_along(degreesPol)) {\n",
    "      error_promedio <- erroresPolTest[[cost_idx]][[gamma_idx]][degree_idx]\n",
    "      if (error_promedio == min_error) {\n",
    "        best_pol_count[cost_idx, gamma_idx, degree_idx] <- best_pol_count[cost_idx, gamma_idx, degree_idx] + 1\n",
    "      }\n",
    "    }\n",
    "  }\n",
    "}\n",
    "\n",
    "cat(\"----- RF -----\\n\")\n",
    "print(setNames(best_rf_count, mtrys))\n",
    "\n",
    "cat(\"----- XGB -----\\n\")\n",
    "print(best_xgb_count)\n",
    "\n",
    "cat(\"----- SVM RBF -----\\n\")\n",
    "print(best_rbf_count)\n",
    "\n",
    "cat(\"----- SVM Polinomial -----\\n\")\n",
    "print(best_pol_count)"
   ]
  },
  {
   "cell_type": "markdown",
   "metadata": {
    "id": "gPcqdaER1iO6"
   },
   "source": [
    "\n",
    "----- RF -----\n",
    "69 34 17  8  4  2  1\n",
    " 0  0  0  1  0  0  0\n",
    "\n",
    "----- XGB -----\n",
    "     1 2 3 4 5 6 7 8 9 10 11 12 13 14 15 16 17 18 19 20\n",
    "0.5  0 0 0 0 0 0 0 0 0  0  0  0  0  0  0  0  0  0  0  0\n",
    "0.3  1 0 0 0 0 0 0 0 0  0  0  0  0  0  0  0  0  0  0  0\n",
    "0.1  0 0 0 1 0 0 0 0 0  0  0  0  0  0  0  0  0  0  0  0\n",
    "0.05 0 0 0 0 0 0 0 0 0  0  0  0  0  0  0  0  0  0  0  0\n",
    "0.01 0 0 0 0 0 0 0 0 0  0  0  0  0  0  0  0  0  0  0  0\n",
    "\n",
    "----- SVM RBF -----\n",
    "      1e-05 1e-04 0.001 0.01 0.1 1 10\n",
    "1000      0     0     0    0   0 0  0\n",
    "10000     0     0     0    0   0 0  0\n",
    "1e+05     0     0     0    0   0 0  0\n",
    "1e+06     0     0     0    0   0 0  0\n",
    "1e+07     0     0     0    0   0 0  0\n",
    "1e+08     1     0     0    0   0 0  0\n",
    "1e+09     0     0     0    0   0 0  0\n",
    "\n",
    "----- SVM Polinomial -----\n",
    ", , 1\n",
    "\n",
    "      1e-05 1e-04 0.001 0.01 0.1 1 10\n",
    "0.1       0     0     0    0   0 0  0\n",
    "1         0     0     0    0   0 0  0\n",
    "10        0     0     0    0   0 1  0\n",
    "100       0     0     0    0   1 0  0\n",
    "1000      0     0     0    1   0 0  0\n",
    "10000     0     0     1    0   0 0  0\n",
    "1e+05     0     1     0    0   0 0  0\n",
    "1e+06     0     0     0    0   0 0  0\n",
    "1e+07     0     0     0    0   0 0  0\n",
    "\n",
    ", , 2\n",
    "\n",
    "      1e-05 1e-04 0.001 0.01 0.1 1 10\n",
    "0.1       0     0     0    0   0 0  0\n",
    "1         0     0     0    0   0 0  0\n",
    "10        0     0     0    0   0 0  0\n",
    "100       0     0     0    0   0 0  0\n",
    "1000      0     0     0    0   0 0  0\n",
    "10000     0     0     0    0   0 0  0\n",
    "1e+05     0     0     0    0   0 0  0\n",
    "1e+06     0     0     0    0   0 0  0\n",
    "1e+07     0     0     0    0   0 0  0\n",
    "\n",
    ", , 3\n",
    "\n",
    "      1e-05 1e-04 0.001 0.01 0.1 1 10\n",
    "0.1       0     0     0    0   0 0  0\n",
    "1         0     0     0    0   0 0  0\n",
    "10        0     0     0    0   0 0  0\n",
    "100       0     0     0    0   0 0  0\n",
    "1000      0     0     0    0   0 0  0\n",
    "10000     0     0     0    0   0 0  0\n",
    "1e+05     0     0     0    0   0 0  0\n",
    "1e+06     0     0     0    0   0 0  0\n",
    "1e+07     0     0     0    0   0 0  0\n",
    "\n",
    ", , 4\n",
    "\n",
    "      1e-05 1e-04 0.001 0.01 0.1 1 10\n",
    "0.1       0     0     0    0   0 0  0\n",
    "1         0     0     0    0   0 0  0\n",
    "10        0     0     0    0   0 0  0\n",
    "100       0     0     0    0   0 0  0\n",
    "1000      0     0     0    0   0 0  0\n",
    "10000     0     0     0    0   0 0  0\n",
    "1e+05     0     0     0    0   0 0  0\n",
    "1e+06     0     0     0    0   0 0  0\n",
    "1e+07     0     0     0    0   0 0  0\n",
    "\n",
    ", , 5\n",
    "\n",
    "      1e-05 1e-04 0.001 0.01 0.1 1 10\n",
    "0.1       0     0     0    0   0 0  0\n",
    "1         0     0     0    0   0 0  0\n",
    "10        0     0     0    0   0 0  0\n",
    "100       0     0     0    0   0 0  0\n",
    "1000      0     0     0    0   0 0  0\n",
    "10000     0     0     0    0   0 0  0\n",
    "1e+05     0     0     0    0   0 0  0\n",
    "1e+06     0     0     0    0   0 0  0\n",
    "1e+07     0     0     0    0   0 0  0"
   ]
  },
  {
   "cell_type": "markdown",
   "metadata": {
    "id": "Ov-rz9KHqgq2"
   },
   "source": [
    "### Comentarios\n",
    "\n",
    "Debido al tamaño del dataset y al tiempo que tardaba en procesarse (cerca de 2 horas en total), utilicé el mismo conjunto de parámetros que en el ejercicio anterior.\n",
    "\n",
    "Dado que había muchas más muestras que en el dataset Lampone, opté por ejecutar el modelo una sola vez para cada combinación de parámetros. Además, al contar con más datos tanto para entrenamiento como para prueba, no ocurrió lo mismo que en Lampone, donde existían muchas combinaciones con errores similares. En este caso, hubo muy pocas combinaciones que resultaron en el menor error (en ocasiones, solo una), lo cual facilitó la elección final de los parámetros óptimos."
   ]
  },
  {
   "cell_type": "markdown",
   "metadata": {
    "id": "ILqsqHW4qgq2"
   },
   "source": [
    "## Comparacion final"
   ]
  },
  {
   "cell_type": "code",
   "execution_count": null,
   "metadata": {
    "id": "jAZ0_pUeqgq2",
    "vscode": {
     "languageId": "r"
    }
   },
   "outputs": [],
   "source": [
    "# RF\n",
    "rf_model <- randomForest(x = xBigTrain, y = as.factor(yBigTrain),\n",
    "                        ntree = 1000,\n",
    "                        mtry = 8,\n",
    "                        importance = FALSE)\n",
    "\n",
    "predTest <- predict(rf_model, xBigTest)\n",
    "errorRF <- mean(predTest != yBigTest)\n",
    "\n",
    "# XGB\n",
    "xgb <- xgboost(data = xBigTrain, label = as.integer(yBigTrain) - 1,\n",
    "              objective = \"binary:hinge\", nrounds = 200,\n",
    "              early_stopping_rounds = 1000, eta = 0.3, max.depth = 1,\n",
    "              colsample_bytree = 1, verbose = 0, subsample = 1)\n",
    "\n",
    "predicciones <- predict(xgb, xBigTest)\n",
    "errorXGBTest <- mean((predicciones > 0.5) != as.integer(yBigTest) - 1)\n",
    "\n",
    "# SVM RBF\n",
    "svm_rbf <- suppressWarnings(\n",
    "  svm(x = xBigTrain, y = as.factor(yBigTrain), kernel = \"radial\", cost = 100000000, gamma = 0.00001)\n",
    ")\n",
    "\n",
    "predTest <- predict(svm_rbf, xBigTest)\n",
    "errorRBFTest <- mean(predTest != yBigTest)\n",
    "\n",
    "# SVM Polinomial\n",
    "svm_pol <- suppressWarnings(\n",
    "  svm(x = xBigTrain, y = as.factor(yBigTrain), kernel = \"polynomial\",\n",
    "      cost = 100, degree = 1, gamma = 0.1)\n",
    ")\n",
    "\n",
    "predTest <- predict(svm_pol, xBigTest)\n",
    "errorPolTest <- mean(predTest != yBigTest)"
   ]
  },
  {
   "cell_type": "code",
   "execution_count": null,
   "metadata": {
    "id": "qsWLN1U3qgq2",
    "vscode": {
     "languageId": "r"
    }
   },
   "outputs": [],
   "source": [
    "errores_test <- c(errorRF, errorXGBTest, errorRBFTest, errorPolTest)\n",
    "nombres_metodos <- c(\"Random Forest\", \"XGBoost\", \"SVM RBF\", \"SVM Polinomial\")\n",
    "\n",
    "barplot(\n",
    "  errores_test,\n",
    "  names.arg = nombres_metodos, # Nombres de los métodos\n",
    "  col = \"salmon\",              # Color de las barras\n",
    "  main = \"Errores de Test\", # Título del gráfico\n",
    "  xlab = \"Método\",             # Etiqueta del eje X\n",
    "  ylab = \"Error\",              # Etiqueta del eje Y\n",
    "  las = 2                      # Rotar etiquetas del eje X\n",
    ")"
   ]
  },
  {
   "cell_type": "markdown",
   "metadata": {},
   "source": [
    "la imagen con los errores esta adjunta"
   ]
  },
  {
   "cell_type": "markdown",
   "metadata": {
    "id": "iC7I1YMaqgq3"
   },
   "source": [
    "### Comentarios\n",
    "\n",
    "Personalmente, considero que Random Forest y XGBoost dieron buenos resultados, ambos rondando un 4% de error, donde RF casi siempre obtuvo mejores resultados que XGB. Creo que esto puede deberse a que no se seleccionaron correctamente los parámetros para XGB, ya que, con una adecuada configuración, este modelo debería superar a RF.\n",
    "\n",
    "En cuanto a los modelos SVM, estos casi siempre obtuvieron resultados similares, con un error cercano al 9%. Si bien uno podría pensar que siguen siendo buenos modelos debido a su bajo error, al comparar con RF, que con una selección de parámetros tan simple (solo eligiendo un Mtry) logró menos de la mitad de ese error, pienso que los modelos SVM no son los más adecuados para este problema. No obstante, sigue siendo posible que, con una mejor selección de variables o parámetros, se pudieran haber obtenido mejores resultados."
   ]
  }
 ],
 "metadata": {
  "colab": {
   "collapsed_sections": [
    "ITRO1d00z96H",
    "2ti9zsAI009T",
    "B4WZaqlHcEdE",
    "CfB0cuKHMK7E",
    "Q7qPWojG03YT",
    "dhou6Oht0m7l",
    "R-cN5cnVMFUY",
    "eptUtn5qMGzh",
    "6an0f1qLMLiS",
    "6RANoZ6CMS-Y",
    "RPgiRjOP0xKr",
    "KaIt6Aozqgq0",
    "OMyMIrB4qgq0",
    "RUwwgxsoqgq1",
    "kNVMYXsZqgq1",
    "tIruhwZIqgq1",
    "DW1vai5Lqgq1"
   ],
   "provenance": []
  },
  "kernelspec": {
   "display_name": "R",
   "name": "ir"
  },
  "language_info": {
   "name": "R"
  }
 },
 "nbformat": 4,
 "nbformat_minor": 0
}
